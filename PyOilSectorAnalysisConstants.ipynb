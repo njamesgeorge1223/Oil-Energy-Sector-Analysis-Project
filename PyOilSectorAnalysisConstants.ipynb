{
 "cells": [
  {
   "cell_type": "code",
   "execution_count": 1,
   "id": "e0c33abb",
   "metadata": {},
   "outputs": [],
   "source": [
    "#*******************************************************************************************\n",
    " #\n",
    " #  File Name:  PyOilSectorAnalysisConstants.py\n",
    " #\n",
    " #  File Description:\n",
    " #      This Python script, PySubroutines.py, contains constants and enumerations \n",
    " #      for Week 7, Project #1, tasks.\n",
    " #\n",
    " #\n",
    " #  Date            Description                             Programmer\n",
    " #  ----------      ------------------------------------    ------------------\n",
    " #  08/22/2023      Initial Development                     N. James George\n",
    " #\n",
    " #******************************************************************************************/\n",
    "\n",
    "from enum import Enum"
   ]
  },
  {
   "cell_type": "code",
   "execution_count": 2,
   "id": "ccf66a2c",
   "metadata": {},
   "outputs": [],
   "source": [
    "CONSTANT_LOCAL_FILE_NAME \\\n",
    "    = 'PyOilSectorAnalysisConstants.py'"
   ]
  },
  {
   "cell_type": "code",
   "execution_count": 3,
   "id": "b2952b30",
   "metadata": {},
   "outputs": [],
   "source": [
    "SP_500_YAHOO_TICKER \\\n",
    "    = '^GSPC'\n",
    "\n",
    "CRUDE_OIL_YAHOO_TICKER \\\n",
    "    = 'CL=F'\n",
    "\n",
    "GOLD_YAHOO_TICKER \\\n",
    "    = 'GC=F'\n",
    "\n",
    "TEN_YEAR_BOND_YIELD_YAHOO_TICKER \\\n",
    "    = '^TNX'\n",
    "\n",
    "BITCOIN_YAHOO_TICKER \\\n",
    "    = 'BTC-USD'\n",
    "\n",
    "\n",
    "WHO_COVID_19_DATA_URL \\\n",
    "    = 'https://covid19.who.int/WHO-COVID-19-global-data.csv'\n",
    "\n",
    "\n",
    "ALL_OIL_COMPANIES_FILE_PATH \\\n",
    "    = './Resources/AllOilCompanies.csv'\n",
    "\n",
    "\n",
    "START_DATE \\\n",
    "    = '2020-01-03'\n",
    "\n",
    "END_DATE \\\n",
    "    = '2022-10-16'"
   ]
  },
  {
   "cell_type": "code",
   "execution_count": 4,
   "id": "5b97a698",
   "metadata": {},
   "outputs": [],
   "source": [
    "class oilCompanyDisplayOptionsEnumeration(Enum):\n",
    "\n",
    "    NAMES = 0\n",
    "\n",
    "    NAMES_MARKET_CAP = 1\n",
    "    \n",
    "    NAMES_ADDRESS = 2\n",
    "    \n",
    "    ALL = 3"
   ]
  }
 ],
 "metadata": {
  "kernelspec": {
   "display_name": "Python 3 (ipykernel)",
   "language": "python",
   "name": "python3"
  },
  "language_info": {
   "codemirror_mode": {
    "name": "ipython",
    "version": 3
   },
   "file_extension": ".py",
   "mimetype": "text/x-python",
   "name": "python",
   "nbconvert_exporter": "python",
   "pygments_lexer": "ipython3",
   "version": "3.11.3"
  }
 },
 "nbformat": 4,
 "nbformat_minor": 5
}
